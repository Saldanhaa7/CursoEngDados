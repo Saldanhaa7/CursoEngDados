{
  "nbformat": 4,
  "nbformat_minor": 0,
  "metadata": {
    "colab": {
      "provenance": [],
      "toc_visible": true,
      "mount_file_id": "1w2Jbu8Bzm1oC1dTG_0Ho_-1TMmWy0nId",
      "authorship_tag": "ABX9TyMBEtMJzbpp3R8iG4YvLeoQ",
      "include_colab_link": true
    },
    "kernelspec": {
      "name": "python3",
      "display_name": "Python 3"
    },
    "language_info": {
      "name": "python"
    }
  },
  "cells": [
    {
      "cell_type": "markdown",
      "metadata": {
        "id": "view-in-github",
        "colab_type": "text"
      },
      "source": [
        "<a href=\"https://colab.research.google.com/github/Saldanhaa7/CursoEngDados/blob/master/Aula_1.ipynb\" target=\"_parent\"><img src=\"https://colab.research.google.com/assets/colab-badge.svg\" alt=\"Open In Colab\"/></a>"
      ]
    },
    {
      "cell_type": "markdown",
      "source": [
        "\n",
        "\n",
        "*   Extrair dados públicos, de compras governamentais\n",
        "*   Tratar os dados\n",
        "*   Armazenar os dados em um arquivo\n",
        "\n",
        "\n",
        "\n",
        "\n"
      ],
      "metadata": {
        "id": "Jh6XFhZmIkWn"
      }
    },
    {
      "cell_type": "markdown",
      "source": [
        "# Extract\n"
      ],
      "metadata": {
        "id": "rM9LbAd-Fb_Y"
      }
    },
    {
      "cell_type": "code",
      "source": [
        "! pip install pyspark"
      ],
      "metadata": {
        "colab": {
          "base_uri": "https://localhost:8080/"
        },
        "id": "QXK0EFkINCNs",
        "outputId": "2d5cf927-641a-489b-b2cc-fe0c41bdb2d8"
      },
      "execution_count": 2,
      "outputs": [
        {
          "output_type": "stream",
          "name": "stdout",
          "text": [
            "Collecting pyspark\n",
            "  Downloading pyspark-3.4.1.tar.gz (310.8 MB)\n",
            "\u001b[2K     \u001b[90m━━━━━━━━━━━━━━━━━━━━━━━━━━━━━━━━━━━━━━━\u001b[0m \u001b[32m310.8/310.8 MB\u001b[0m \u001b[31m2.7 MB/s\u001b[0m eta \u001b[36m0:00:00\u001b[0m\n",
            "\u001b[?25h  Preparing metadata (setup.py) ... \u001b[?25l\u001b[?25hdone\n",
            "Requirement already satisfied: py4j==0.10.9.7 in /usr/local/lib/python3.10/dist-packages (from pyspark) (0.10.9.7)\n",
            "Building wheels for collected packages: pyspark\n",
            "  Building wheel for pyspark (setup.py) ... \u001b[?25l\u001b[?25hdone\n",
            "  Created wheel for pyspark: filename=pyspark-3.4.1-py2.py3-none-any.whl size=311285387 sha256=7c58099d07ac5155d9081463803203f8a966f6f51f5a3fdd596e76246c93ac46\n",
            "  Stored in directory: /root/.cache/pip/wheels/0d/77/a3/ff2f74cc9ab41f8f594dabf0579c2a7c6de920d584206e0834\n",
            "Successfully built pyspark\n",
            "Installing collected packages: pyspark\n",
            "Successfully installed pyspark-3.4.1\n"
          ]
        }
      ]
    },
    {
      "cell_type": "code",
      "source": [
        "import requests\n",
        "import io\n",
        "import pandas as pd\n",
        "from pyspark.sql import SparkSession\n",
        "import pyspark.sql.functions as F"
      ],
      "metadata": {
        "id": "nDvFDsiDJPax"
      },
      "execution_count": 18,
      "outputs": []
    },
    {
      "cell_type": "code",
      "execution_count": 4,
      "metadata": {
        "id": "L3qBU0ebINFo"
      },
      "outputs": [],
      "source": [
        "url = 'http://compras.dados.gov.br/servicos/v1/servicos.csv?descricao=educação'"
      ]
    },
    {
      "cell_type": "code",
      "source": [
        "data = requests.get(url).content\n",
        "type(data)"
      ],
      "metadata": {
        "colab": {
          "base_uri": "https://localhost:8080/"
        },
        "id": "tRJWlwxWJVEH",
        "outputId": "94111f4d-71de-4406-ed6e-77e384423049"
      },
      "execution_count": 5,
      "outputs": [
        {
          "output_type": "execute_result",
          "data": {
            "text/plain": [
              "bytes"
            ]
          },
          "metadata": {},
          "execution_count": 5
        }
      ]
    },
    {
      "cell_type": "code",
      "source": [
        "parse_data = io.StringIO(data.decode('utf-8'))\n",
        "parse_data"
      ],
      "metadata": {
        "colab": {
          "base_uri": "https://localhost:8080/"
        },
        "id": "i6qJgXJPLsaJ",
        "outputId": "8d1fbe59-75c3-4216-d815-9ff06b5c0afd"
      },
      "execution_count": 19,
      "outputs": [
        {
          "output_type": "execute_result",
          "data": {
            "text/plain": [
              "<_io.StringIO at 0x7b56227e3910>"
            ]
          },
          "metadata": {},
          "execution_count": 19
        }
      ]
    },
    {
      "cell_type": "code",
      "source": [
        "df = pd.read_csv(parse_data)\n",
        "df.head()"
      ],
      "metadata": {
        "colab": {
          "base_uri": "https://localhost:8080/",
          "height": 400
        },
        "id": "w5_6LSFVL7xK",
        "outputId": "69c5e394-a991-4ebc-8a1f-09a9a0c59187"
      },
      "execution_count": 20,
      "outputs": [
        {
          "output_type": "execute_result",
          "data": {
            "text/plain": [
              "   Código                                          Descrição Unidade medida  \\\n",
              "0   14311  Orientação / Educação - Atividade Física      ...  UNHOMEM/H MÊS   \n",
              "1   15946  Serviço Penitenciário - Reeducação e Reabilita...             UN   \n",
              "2   18481  Consultoria e Assessoria - Educação           ...             UN   \n",
              "3   19321  Curso / Treinamento Educação - Distância      ...             UN   \n",
              "\n",
              "    CPC                                              Seção  \\\n",
              "0  9659  9: SERVIÇOS DA COMUNIDADE, PESSOAIS E SOCIAIS ...   \n",
              "1   979  9: SERVIÇOS DA COMUNIDADE, PESSOAIS E SOCIAIS ...   \n",
              "2  8319  8: SERVIÇOS DE ARQUITETURA, DESENHOS TÉCNICOS,...   \n",
              "3   929  9: SERVIÇOS DA COMUNIDADE, PESSOAIS E SOCIAIS ...   \n",
              "\n",
              "                                             Divisão  \\\n",
              "0  96: SERVIÇOS RECREACIONAIS, CULTURAIS E ESPORT...   \n",
              "1  97: OUTROS SERVIÇOS                           ...   \n",
              "2  83: OUTROS SERVIÇOS DE NEGÓCIOS, TÉCNICOS E PR...   \n",
              "3  92: SERVIÇOS DA INSTRUÇÃO/ EDUCAÇÃO/ ENSINO   ...   \n",
              "\n",
              "                                               Grupo  \\\n",
              "0  965: SERVIÇOS RELACIONADOS COM ESPORTES E SERV...   \n",
              "1  979: OUTROS SERVIÇOS DIVERSOS/MISCELÂNEA      ...   \n",
              "2  831: SERVIÇOS DE CONSULTORIA E DE GERÊNCIA/GES...   \n",
              "3  929: OUTROS SERVIÇOS DE EDUCAÇÃO E TREINAMENTO...   \n",
              "\n",
              "                                              Classe  Subclasse  \n",
              "0  9659: OUTROS ESPORTES E SERVIÇOS DE ESPORTES R...        NaN  \n",
              "1                                                NaN        NaN  \n",
              "2  8319: OUTROS SERVIÇOS DE GERÊNCIA/GESTÃO, EXCE...        NaN  \n",
              "3                                                NaN        NaN  "
            ],
            "text/html": [
              "\n",
              "  <div id=\"df-9f62375f-df02-4068-b84b-89c9725cb139\" class=\"colab-df-container\">\n",
              "    <div>\n",
              "<style scoped>\n",
              "    .dataframe tbody tr th:only-of-type {\n",
              "        vertical-align: middle;\n",
              "    }\n",
              "\n",
              "    .dataframe tbody tr th {\n",
              "        vertical-align: top;\n",
              "    }\n",
              "\n",
              "    .dataframe thead th {\n",
              "        text-align: right;\n",
              "    }\n",
              "</style>\n",
              "<table border=\"1\" class=\"dataframe\">\n",
              "  <thead>\n",
              "    <tr style=\"text-align: right;\">\n",
              "      <th></th>\n",
              "      <th>Código</th>\n",
              "      <th>Descrição</th>\n",
              "      <th>Unidade medida</th>\n",
              "      <th>CPC</th>\n",
              "      <th>Seção</th>\n",
              "      <th>Divisão</th>\n",
              "      <th>Grupo</th>\n",
              "      <th>Classe</th>\n",
              "      <th>Subclasse</th>\n",
              "    </tr>\n",
              "  </thead>\n",
              "  <tbody>\n",
              "    <tr>\n",
              "      <th>0</th>\n",
              "      <td>14311</td>\n",
              "      <td>Orientação / Educação - Atividade Física      ...</td>\n",
              "      <td>UNHOMEM/H MÊS</td>\n",
              "      <td>9659</td>\n",
              "      <td>9: SERVIÇOS DA COMUNIDADE, PESSOAIS E SOCIAIS ...</td>\n",
              "      <td>96: SERVIÇOS RECREACIONAIS, CULTURAIS E ESPORT...</td>\n",
              "      <td>965: SERVIÇOS RELACIONADOS COM ESPORTES E SERV...</td>\n",
              "      <td>9659: OUTROS ESPORTES E SERVIÇOS DE ESPORTES R...</td>\n",
              "      <td>NaN</td>\n",
              "    </tr>\n",
              "    <tr>\n",
              "      <th>1</th>\n",
              "      <td>15946</td>\n",
              "      <td>Serviço Penitenciário - Reeducação e Reabilita...</td>\n",
              "      <td>UN</td>\n",
              "      <td>979</td>\n",
              "      <td>9: SERVIÇOS DA COMUNIDADE, PESSOAIS E SOCIAIS ...</td>\n",
              "      <td>97: OUTROS SERVIÇOS                           ...</td>\n",
              "      <td>979: OUTROS SERVIÇOS DIVERSOS/MISCELÂNEA      ...</td>\n",
              "      <td>NaN</td>\n",
              "      <td>NaN</td>\n",
              "    </tr>\n",
              "    <tr>\n",
              "      <th>2</th>\n",
              "      <td>18481</td>\n",
              "      <td>Consultoria e Assessoria - Educação           ...</td>\n",
              "      <td>UN</td>\n",
              "      <td>8319</td>\n",
              "      <td>8: SERVIÇOS DE ARQUITETURA, DESENHOS TÉCNICOS,...</td>\n",
              "      <td>83: OUTROS SERVIÇOS DE NEGÓCIOS, TÉCNICOS E PR...</td>\n",
              "      <td>831: SERVIÇOS DE CONSULTORIA E DE GERÊNCIA/GES...</td>\n",
              "      <td>8319: OUTROS SERVIÇOS DE GERÊNCIA/GESTÃO, EXCE...</td>\n",
              "      <td>NaN</td>\n",
              "    </tr>\n",
              "    <tr>\n",
              "      <th>3</th>\n",
              "      <td>19321</td>\n",
              "      <td>Curso / Treinamento Educação - Distância      ...</td>\n",
              "      <td>UN</td>\n",
              "      <td>929</td>\n",
              "      <td>9: SERVIÇOS DA COMUNIDADE, PESSOAIS E SOCIAIS ...</td>\n",
              "      <td>92: SERVIÇOS DA INSTRUÇÃO/ EDUCAÇÃO/ ENSINO   ...</td>\n",
              "      <td>929: OUTROS SERVIÇOS DE EDUCAÇÃO E TREINAMENTO...</td>\n",
              "      <td>NaN</td>\n",
              "      <td>NaN</td>\n",
              "    </tr>\n",
              "  </tbody>\n",
              "</table>\n",
              "</div>\n",
              "    <div class=\"colab-df-buttons\">\n",
              "\n",
              "  <div class=\"colab-df-container\">\n",
              "    <button class=\"colab-df-convert\" onclick=\"convertToInteractive('df-9f62375f-df02-4068-b84b-89c9725cb139')\"\n",
              "            title=\"Convert this dataframe to an interactive table.\"\n",
              "            style=\"display:none;\">\n",
              "\n",
              "  <svg xmlns=\"http://www.w3.org/2000/svg\" height=\"24px\" viewBox=\"0 -960 960 960\">\n",
              "    <path d=\"M120-120v-720h720v720H120Zm60-500h600v-160H180v160Zm220 220h160v-160H400v160Zm0 220h160v-160H400v160ZM180-400h160v-160H180v160Zm440 0h160v-160H620v160ZM180-180h160v-160H180v160Zm440 0h160v-160H620v160Z\"/>\n",
              "  </svg>\n",
              "    </button>\n",
              "\n",
              "  <style>\n",
              "    .colab-df-container {\n",
              "      display:flex;\n",
              "      gap: 12px;\n",
              "    }\n",
              "\n",
              "    .colab-df-convert {\n",
              "      background-color: #E8F0FE;\n",
              "      border: none;\n",
              "      border-radius: 50%;\n",
              "      cursor: pointer;\n",
              "      display: none;\n",
              "      fill: #1967D2;\n",
              "      height: 32px;\n",
              "      padding: 0 0 0 0;\n",
              "      width: 32px;\n",
              "    }\n",
              "\n",
              "    .colab-df-convert:hover {\n",
              "      background-color: #E2EBFA;\n",
              "      box-shadow: 0px 1px 2px rgba(60, 64, 67, 0.3), 0px 1px 3px 1px rgba(60, 64, 67, 0.15);\n",
              "      fill: #174EA6;\n",
              "    }\n",
              "\n",
              "    .colab-df-buttons div {\n",
              "      margin-bottom: 4px;\n",
              "    }\n",
              "\n",
              "    [theme=dark] .colab-df-convert {\n",
              "      background-color: #3B4455;\n",
              "      fill: #D2E3FC;\n",
              "    }\n",
              "\n",
              "    [theme=dark] .colab-df-convert:hover {\n",
              "      background-color: #434B5C;\n",
              "      box-shadow: 0px 1px 3px 1px rgba(0, 0, 0, 0.15);\n",
              "      filter: drop-shadow(0px 1px 2px rgba(0, 0, 0, 0.3));\n",
              "      fill: #FFFFFF;\n",
              "    }\n",
              "  </style>\n",
              "\n",
              "    <script>\n",
              "      const buttonEl =\n",
              "        document.querySelector('#df-9f62375f-df02-4068-b84b-89c9725cb139 button.colab-df-convert');\n",
              "      buttonEl.style.display =\n",
              "        google.colab.kernel.accessAllowed ? 'block' : 'none';\n",
              "\n",
              "      async function convertToInteractive(key) {\n",
              "        const element = document.querySelector('#df-9f62375f-df02-4068-b84b-89c9725cb139');\n",
              "        const dataTable =\n",
              "          await google.colab.kernel.invokeFunction('convertToInteractive',\n",
              "                                                    [key], {});\n",
              "        if (!dataTable) return;\n",
              "\n",
              "        const docLinkHtml = 'Like what you see? Visit the ' +\n",
              "          '<a target=\"_blank\" href=https://colab.research.google.com/notebooks/data_table.ipynb>data table notebook</a>'\n",
              "          + ' to learn more about interactive tables.';\n",
              "        element.innerHTML = '';\n",
              "        dataTable['output_type'] = 'display_data';\n",
              "        await google.colab.output.renderOutput(dataTable, element);\n",
              "        const docLink = document.createElement('div');\n",
              "        docLink.innerHTML = docLinkHtml;\n",
              "        element.appendChild(docLink);\n",
              "      }\n",
              "    </script>\n",
              "  </div>\n",
              "\n",
              "\n",
              "<div id=\"df-bb98c4bc-07c7-4661-9513-e452b0736469\">\n",
              "  <button class=\"colab-df-quickchart\" onclick=\"quickchart('df-bb98c4bc-07c7-4661-9513-e452b0736469')\"\n",
              "            title=\"Suggest charts.\"\n",
              "            style=\"display:none;\">\n",
              "\n",
              "<svg xmlns=\"http://www.w3.org/2000/svg\" height=\"24px\"viewBox=\"0 0 24 24\"\n",
              "     width=\"24px\">\n",
              "    <g>\n",
              "        <path d=\"M19 3H5c-1.1 0-2 .9-2 2v14c0 1.1.9 2 2 2h14c1.1 0 2-.9 2-2V5c0-1.1-.9-2-2-2zM9 17H7v-7h2v7zm4 0h-2V7h2v10zm4 0h-2v-4h2v4z\"/>\n",
              "    </g>\n",
              "</svg>\n",
              "  </button>\n",
              "\n",
              "<style>\n",
              "  .colab-df-quickchart {\n",
              "      --bg-color: #E8F0FE;\n",
              "      --fill-color: #1967D2;\n",
              "      --hover-bg-color: #E2EBFA;\n",
              "      --hover-fill-color: #174EA6;\n",
              "      --disabled-fill-color: #AAA;\n",
              "      --disabled-bg-color: #DDD;\n",
              "  }\n",
              "\n",
              "  [theme=dark] .colab-df-quickchart {\n",
              "      --bg-color: #3B4455;\n",
              "      --fill-color: #D2E3FC;\n",
              "      --hover-bg-color: #434B5C;\n",
              "      --hover-fill-color: #FFFFFF;\n",
              "      --disabled-bg-color: #3B4455;\n",
              "      --disabled-fill-color: #666;\n",
              "  }\n",
              "\n",
              "  .colab-df-quickchart {\n",
              "    background-color: var(--bg-color);\n",
              "    border: none;\n",
              "    border-radius: 50%;\n",
              "    cursor: pointer;\n",
              "    display: none;\n",
              "    fill: var(--fill-color);\n",
              "    height: 32px;\n",
              "    padding: 0;\n",
              "    width: 32px;\n",
              "  }\n",
              "\n",
              "  .colab-df-quickchart:hover {\n",
              "    background-color: var(--hover-bg-color);\n",
              "    box-shadow: 0 1px 2px rgba(60, 64, 67, 0.3), 0 1px 3px 1px rgba(60, 64, 67, 0.15);\n",
              "    fill: var(--button-hover-fill-color);\n",
              "  }\n",
              "\n",
              "  .colab-df-quickchart-complete:disabled,\n",
              "  .colab-df-quickchart-complete:disabled:hover {\n",
              "    background-color: var(--disabled-bg-color);\n",
              "    fill: var(--disabled-fill-color);\n",
              "    box-shadow: none;\n",
              "  }\n",
              "\n",
              "  .colab-df-spinner {\n",
              "    border: 2px solid var(--fill-color);\n",
              "    border-color: transparent;\n",
              "    border-bottom-color: var(--fill-color);\n",
              "    animation:\n",
              "      spin 1s steps(1) infinite;\n",
              "  }\n",
              "\n",
              "  @keyframes spin {\n",
              "    0% {\n",
              "      border-color: transparent;\n",
              "      border-bottom-color: var(--fill-color);\n",
              "      border-left-color: var(--fill-color);\n",
              "    }\n",
              "    20% {\n",
              "      border-color: transparent;\n",
              "      border-left-color: var(--fill-color);\n",
              "      border-top-color: var(--fill-color);\n",
              "    }\n",
              "    30% {\n",
              "      border-color: transparent;\n",
              "      border-left-color: var(--fill-color);\n",
              "      border-top-color: var(--fill-color);\n",
              "      border-right-color: var(--fill-color);\n",
              "    }\n",
              "    40% {\n",
              "      border-color: transparent;\n",
              "      border-right-color: var(--fill-color);\n",
              "      border-top-color: var(--fill-color);\n",
              "    }\n",
              "    60% {\n",
              "      border-color: transparent;\n",
              "      border-right-color: var(--fill-color);\n",
              "    }\n",
              "    80% {\n",
              "      border-color: transparent;\n",
              "      border-right-color: var(--fill-color);\n",
              "      border-bottom-color: var(--fill-color);\n",
              "    }\n",
              "    90% {\n",
              "      border-color: transparent;\n",
              "      border-bottom-color: var(--fill-color);\n",
              "    }\n",
              "  }\n",
              "</style>\n",
              "\n",
              "  <script>\n",
              "    async function quickchart(key) {\n",
              "      const quickchartButtonEl =\n",
              "        document.querySelector('#' + key + ' button');\n",
              "      quickchartButtonEl.disabled = true;  // To prevent multiple clicks.\n",
              "      quickchartButtonEl.classList.add('colab-df-spinner');\n",
              "      try {\n",
              "        const charts = await google.colab.kernel.invokeFunction(\n",
              "            'suggestCharts', [key], {});\n",
              "      } catch (error) {\n",
              "        console.error('Error during call to suggestCharts:', error);\n",
              "      }\n",
              "      quickchartButtonEl.classList.remove('colab-df-spinner');\n",
              "      quickchartButtonEl.classList.add('colab-df-quickchart-complete');\n",
              "    }\n",
              "    (() => {\n",
              "      let quickchartButtonEl =\n",
              "        document.querySelector('#df-bb98c4bc-07c7-4661-9513-e452b0736469 button');\n",
              "      quickchartButtonEl.style.display =\n",
              "        google.colab.kernel.accessAllowed ? 'block' : 'none';\n",
              "    })();\n",
              "  </script>\n",
              "</div>\n",
              "    </div>\n",
              "  </div>\n"
            ]
          },
          "metadata": {},
          "execution_count": 20
        }
      ]
    },
    {
      "cell_type": "code",
      "source": [
        "spark = SparkSession.builder.appName(\"Aula1\").getOrCreate()"
      ],
      "metadata": {
        "id": "u0DDkJauNoPc"
      },
      "execution_count": 8,
      "outputs": []
    },
    {
      "cell_type": "code",
      "source": [
        "type(df)"
      ],
      "metadata": {
        "colab": {
          "base_uri": "https://localhost:8080/"
        },
        "id": "CxxBiSCjOOBV",
        "outputId": "b995af8d-20fa-4570-e0d2-e5cdaaf0f2c6"
      },
      "execution_count": 23,
      "outputs": [
        {
          "output_type": "execute_result",
          "data": {
            "text/plain": [
              "pyspark.sql.dataframe.DataFrame"
            ]
          },
          "metadata": {},
          "execution_count": 23
        }
      ]
    },
    {
      "cell_type": "code",
      "source": [
        "df = spark.createDataFrame(df)"
      ],
      "metadata": {
        "id": "198tKYBxOULd"
      },
      "execution_count": 22,
      "outputs": []
    },
    {
      "cell_type": "markdown",
      "source": [
        "#Transform"
      ],
      "metadata": {
        "id": "1aUkq6oaFmK-"
      }
    },
    {
      "cell_type": "code",
      "source": [
        "df.printSchema()"
      ],
      "metadata": {
        "colab": {
          "base_uri": "https://localhost:8080/"
        },
        "id": "weXTJx3JOe6O",
        "outputId": "e45f92f6-039c-4733-bde5-bcbf0857880f"
      },
      "execution_count": 12,
      "outputs": [
        {
          "output_type": "stream",
          "name": "stdout",
          "text": [
            "root\n",
            " |-- Código: long (nullable = true)\n",
            " |-- Descrição: string (nullable = true)\n",
            " |-- Unidade medida: string (nullable = true)\n",
            " |-- CPC: long (nullable = true)\n",
            " |-- Seção: string (nullable = true)\n",
            " |-- Divisão: string (nullable = true)\n",
            " |-- Grupo: string (nullable = true)\n",
            " |-- Classe: string (nullable = true)\n",
            " |-- Subclasse: double (nullable = true)\n",
            "\n"
          ]
        }
      ]
    },
    {
      "cell_type": "code",
      "source": [
        "df.show(50)"
      ],
      "metadata": {
        "colab": {
          "base_uri": "https://localhost:8080/"
        },
        "id": "9JA1AbtVF762",
        "outputId": "fa1eb2fa-0d4b-409b-cbb2-a25eb506f9f4"
      },
      "execution_count": 13,
      "outputs": [
        {
          "output_type": "stream",
          "name": "stdout",
          "text": [
            "+------+--------------------+--------------+----+--------------------+--------------------+--------------------+--------------------+---------+\n",
            "|Código|           Descrição|Unidade medida| CPC|               Seção|             Divisão|               Grupo|              Classe|Subclasse|\n",
            "+------+--------------------+--------------+----+--------------------+--------------------+--------------------+--------------------+---------+\n",
            "| 14311|Orientação / Educ...| UNHOMEM/H MÊS|9659|9: SERVIÇOS DA CO...|96: SERVIÇOS RECR...|965: SERVIÇOS REL...|9659: OUTROS ESPO...|      NaN|\n",
            "| 15946|Serviço Penitenci...|            UN| 979|9: SERVIÇOS DA CO...|97: OUTROS SERVIÇ...|979: OUTROS SERVI...|                 NaN|      NaN|\n",
            "| 18481|Consultoria e Ass...|            UN|8319|8: SERVIÇOS DE AR...|83: OUTROS SERVIÇ...|831: SERVIÇOS DE ...|8319: OUTROS SERV...|      NaN|\n",
            "| 19321|Curso / Treinamen...|            UN| 929|9: SERVIÇOS DA CO...|92: SERVIÇOS DA I...|929: OUTROS SERVI...|                 NaN|      NaN|\n",
            "+------+--------------------+--------------+----+--------------------+--------------------+--------------------+--------------------+---------+\n",
            "\n"
          ]
        }
      ]
    },
    {
      "cell_type": "code",
      "source": [
        "df.columns"
      ],
      "metadata": {
        "colab": {
          "base_uri": "https://localhost:8080/"
        },
        "id": "Rjc1sC4CSaVJ",
        "outputId": "9db735ce-1874-4e6e-d070-6d8a52c673a0"
      },
      "execution_count": 16,
      "outputs": [
        {
          "output_type": "execute_result",
          "data": {
            "text/plain": [
              "['Codigo',\n",
              " 'Descricao',\n",
              " 'Unidade_medida',\n",
              " 'CPC',\n",
              " 'Secao',\n",
              " 'Divisao',\n",
              " 'Grupo',\n",
              " 'Classe',\n",
              " 'Subclasse']"
            ]
          },
          "metadata": {},
          "execution_count": 16
        }
      ]
    },
    {
      "cell_type": "code",
      "source": [
        "df = (df.withColumnRenamed(\"Código\", \"Codigo\")\n",
        ".withColumnRenamed(\"Descrição\", \"Descricao\")\n",
        ".withColumnRenamed(\"Unidade medida\", \"Unidade_medida\")\n",
        ".withColumnRenamed(\"Seção\", \"Secao\")\n",
        ".withColumnRenamed(\"Divisão\", \"Divisao\")\n",
        "      )"
      ],
      "metadata": {
        "id": "M4YJKGW8SMgP"
      },
      "execution_count": 15,
      "outputs": []
    },
    {
      "cell_type": "code",
      "source": [
        "df = df.select([x.lower() for x in df.columns])\n",
        "df.printSchema()"
      ],
      "metadata": {
        "colab": {
          "base_uri": "https://localhost:8080/"
        },
        "id": "dS7V3gv8Tpaq",
        "outputId": "24ada5fd-e255-40d7-c970-2d1a6ca187e3"
      },
      "execution_count": 24,
      "outputs": [
        {
          "output_type": "stream",
          "name": "stdout",
          "text": [
            "root\n",
            " |-- código: long (nullable = true)\n",
            " |-- descrição: string (nullable = true)\n",
            " |-- unidade medida: string (nullable = true)\n",
            " |-- cpc: long (nullable = true)\n",
            " |-- seção: string (nullable = true)\n",
            " |-- divisão: string (nullable = true)\n",
            " |-- grupo: string (nullable = true)\n",
            " |-- classe: string (nullable = true)\n",
            " |-- subclasse: double (nullable = true)\n",
            "\n"
          ]
        }
      ]
    },
    {
      "cell_type": "code",
      "source": [
        "from google.colab import drive"
      ],
      "metadata": {
        "id": "WucFNRU8VGe-"
      },
      "execution_count": 25,
      "outputs": []
    },
    {
      "cell_type": "code",
      "source": [
        "drive.mount('/content/drive')"
      ],
      "metadata": {
        "colab": {
          "base_uri": "https://localhost:8080/"
        },
        "id": "Mz22MTIHVM-u",
        "outputId": "5fe89a4c-5a67-4ff9-90da-0aa31a85a78c"
      },
      "execution_count": 26,
      "outputs": [
        {
          "output_type": "stream",
          "name": "stdout",
          "text": [
            "Mounted at /content/drive\n"
          ]
        }
      ]
    },
    {
      "cell_type": "code",
      "source": [
        "dir = \"/content/drive/MyDrive/xpe/data\""
      ],
      "metadata": {
        "id": "NvFYWl0VVbUb"
      },
      "execution_count": 27,
      "outputs": []
    },
    {
      "cell_type": "code",
      "source": [
        "df.write.mode(\"overwrite\").csv(f\"{dir}/compras.csv\")"
      ],
      "metadata": {
        "id": "XlCFzcRtV-8a"
      },
      "execution_count": 30,
      "outputs": []
    },
    {
      "cell_type": "code",
      "source": [
        "print(spark.read.csv(\"/content/drive/MyDrive/xpe/data/compras.csv\").head())"
      ],
      "metadata": {
        "colab": {
          "base_uri": "https://localhost:8080/"
        },
        "id": "4dwjab8nW6D-",
        "outputId": "6a19d5da-e143-4431-e265-ab3272d1afa8"
      },
      "execution_count": 33,
      "outputs": [
        {
          "output_type": "stream",
          "name": "stdout",
          "text": [
            "Row(_c0='18481', _c1='Consultoria e Assessoria - Educação', _c2='UN', _c3='8319', _c4='8: SERVIÇOS DE ARQUITETURA, DESENHOS TÉCNICOS, PESQUISA E DESENVOLVIMENTO, NEGÓCIO E PRODUÇÃO', _c5='83: OUTROS SERVIÇOS DE NEGÓCIOS, TÉCNICOS E PROFISSIONAIS', _c6='831: SERVIÇOS DE CONSULTORIA E DE GERÊNCIA/GESTÃO', _c7='8319: OUTROS SERVIÇOS DE GERÊNCIA/GESTÃO, EXCETO OS DE PROJETOS DECONSTRUÇÃO', _c8='NaN')\n"
          ]
        }
      ]
    }
  ]
}